{
  "nbformat": 4,
  "nbformat_minor": 0,
  "metadata": {
    "colab": {
      "provenance": [],
      "authorship_tag": "ABX9TyOG5mqe01SWuTk3IQ9sVMk8",
      "include_colab_link": true
    },
    "kernelspec": {
      "name": "python3",
      "display_name": "Python 3"
    },
    "language_info": {
      "name": "python"
    }
  },
  "cells": [
    {
      "cell_type": "markdown",
      "metadata": {
        "id": "view-in-github",
        "colab_type": "text"
      },
      "source": [
        "<a href=\"https://colab.research.google.com/github/shreya-rawal/notebooks/blob/main/pdf_to_audiobook.ipynb\" target=\"_parent\"><img src=\"https://colab.research.google.com/assets/colab-badge.svg\" alt=\"Open In Colab\"/></a>"
      ]
    },
    {
      "cell_type": "markdown",
      "source": [
        "## Write a python script that takes a pdf file, identifies the text and converts the text into speech."
      ],
      "metadata": {
        "id": "XDUleJwrdZq4"
      }
    },
    {
      "cell_type": "code",
      "source": [
        "url = \"https://docenti.unimc.it/antonella.pascali/teaching/2018/19055/files/ultima-lezione/harry-potter-and-the-philosophers-stone\""
      ],
      "metadata": {
        "id": "RauX8aP8jNP0"
      },
      "execution_count": 1,
      "outputs": []
    },
    {
      "cell_type": "code",
      "source": [
        "import requests"
      ],
      "metadata": {
        "id": "2m8Cl6jFjiyG"
      },
      "execution_count": 2,
      "outputs": []
    },
    {
      "cell_type": "code",
      "source": [
        "request = requests.get(url)"
      ],
      "metadata": {
        "id": "Z4oIEnjAjkuX"
      },
      "execution_count": 3,
      "outputs": []
    },
    {
      "cell_type": "code",
      "source": [
        "with open(\"harrypotter_1.pdf\", \"wb\") as f:\n",
        "    f.write(request.content)"
      ],
      "metadata": {
        "id": "xyTo_pGnj4AL"
      },
      "execution_count": 4,
      "outputs": []
    },
    {
      "cell_type": "markdown",
      "source": [
        "We can try to use a pdf-to-text api to get the pdf as a text file"
      ],
      "metadata": {
        "id": "8MSp17aykY6A"
      }
    },
    {
      "cell_type": "markdown",
      "source": [
        "For this we can utilize the convertAPI"
      ],
      "metadata": {
        "id": "-zy7nNHWkdM9"
      }
    },
    {
      "cell_type": "code",
      "source": [
        "!pip install convertapi"
      ],
      "metadata": {
        "colab": {
          "base_uri": "https://localhost:8080/"
        },
        "id": "2frU2am3kEW3",
        "outputId": "27aa25c9-4f30-456b-a984-700fc46bcba1"
      },
      "execution_count": 5,
      "outputs": [
        {
          "output_type": "stream",
          "name": "stdout",
          "text": [
            "Collecting convertapi\n",
            "  Downloading convertapi-1.7.0-py2.py3-none-any.whl (7.3 kB)\n",
            "Requirement already satisfied: requests>=2.4.2 in /usr/local/lib/python3.10/dist-packages (from convertapi) (2.31.0)\n",
            "Requirement already satisfied: charset-normalizer<4,>=2 in /usr/local/lib/python3.10/dist-packages (from requests>=2.4.2->convertapi) (3.2.0)\n",
            "Requirement already satisfied: idna<4,>=2.5 in /usr/local/lib/python3.10/dist-packages (from requests>=2.4.2->convertapi) (3.4)\n",
            "Requirement already satisfied: urllib3<3,>=1.21.1 in /usr/local/lib/python3.10/dist-packages (from requests>=2.4.2->convertapi) (2.0.4)\n",
            "Requirement already satisfied: certifi>=2017.4.17 in /usr/local/lib/python3.10/dist-packages (from requests>=2.4.2->convertapi) (2023.7.22)\n",
            "Installing collected packages: convertapi\n",
            "Successfully installed convertapi-1.7.0\n"
          ]
        }
      ]
    },
    {
      "cell_type": "code",
      "source": [
        "import convertapi\n",
        "\n",
        "convertapi.api_secret = '3guTnLMasy4NIbpo' #got this secret key from https://www.convertapi.com/"
      ],
      "metadata": {
        "id": "_saL9x0zkt8G"
      },
      "execution_count": 6,
      "outputs": []
    },
    {
      "cell_type": "code",
      "source": [
        "#now to convert pdf to text file\n",
        "convertapi.convert('txt', {\n",
        "    'File': 'harrypotter_1.pdf'\n",
        "}, from_format = 'pdf').save_files('harrypotter_1.txt')"
      ],
      "metadata": {
        "colab": {
          "base_uri": "https://localhost:8080/"
        },
        "id": "9yYGzmW6k_5U",
        "outputId": "a52b276a-69aa-4825-bdc5-4640afd8251f"
      },
      "execution_count": 7,
      "outputs": [
        {
          "output_type": "execute_result",
          "data": {
            "text/plain": [
              "['harrypotter_1.txt']"
            ]
          },
          "metadata": {},
          "execution_count": 7
        }
      ]
    },
    {
      "cell_type": "code",
      "source": [
        "file = open(\"harrypotter_1.txt\", \"r\").read().replace(\"\\n\", \" \")\n",
        "language = \"en\""
      ],
      "metadata": {
        "id": "Te3KwGEgV13i"
      },
      "execution_count": 9,
      "outputs": []
    },
    {
      "cell_type": "code",
      "source": [
        "!pip install gtts"
      ],
      "metadata": {
        "colab": {
          "base_uri": "https://localhost:8080/"
        },
        "id": "1d85-7Acqvdj",
        "outputId": "2a2ee12f-256a-46b5-fb4f-9e3942bf6ef9"
      },
      "execution_count": 10,
      "outputs": [
        {
          "output_type": "stream",
          "name": "stdout",
          "text": [
            "Collecting gtts\n",
            "  Downloading gTTS-2.3.2-py3-none-any.whl (28 kB)\n",
            "Requirement already satisfied: requests<3,>=2.27 in /usr/local/lib/python3.10/dist-packages (from gtts) (2.31.0)\n",
            "Requirement already satisfied: click<8.2,>=7.1 in /usr/local/lib/python3.10/dist-packages (from gtts) (8.1.7)\n",
            "Requirement already satisfied: charset-normalizer<4,>=2 in /usr/local/lib/python3.10/dist-packages (from requests<3,>=2.27->gtts) (3.2.0)\n",
            "Requirement already satisfied: idna<4,>=2.5 in /usr/local/lib/python3.10/dist-packages (from requests<3,>=2.27->gtts) (3.4)\n",
            "Requirement already satisfied: urllib3<3,>=1.21.1 in /usr/local/lib/python3.10/dist-packages (from requests<3,>=2.27->gtts) (2.0.4)\n",
            "Requirement already satisfied: certifi>=2017.4.17 in /usr/local/lib/python3.10/dist-packages (from requests<3,>=2.27->gtts) (2023.7.22)\n",
            "Installing collected packages: gtts\n",
            "Successfully installed gtts-2.3.2\n"
          ]
        }
      ]
    },
    {
      "cell_type": "code",
      "source": [
        "from gtts import gTTS"
      ],
      "metadata": {
        "id": "yG_BkcQMq3uv"
      },
      "execution_count": 11,
      "outputs": []
    },
    {
      "cell_type": "code",
      "source": [
        "tts = gTTS(text = str(file), lang = language, slow = False)"
      ],
      "metadata": {
        "id": "W-C79Og1q6RX"
      },
      "execution_count": 12,
      "outputs": []
    },
    {
      "cell_type": "code",
      "source": [
        "#tts.save(\"harrypotter_1.mp3\")"
      ],
      "metadata": {
        "id": "O4GsRl-krDbz"
      },
      "execution_count": null,
      "outputs": []
    }
  ]
}